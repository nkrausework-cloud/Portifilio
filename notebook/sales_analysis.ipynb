# %% [markdown]
# # Sales Performance Analysis
# ## Building an Interactive Dashboard for Business Intelligence

# %%
import pandas as pd
import numpy as np
import matplotlib.pyplot as plt
import seaborn as sns
from datetime import datetime
import warnings
warnings.filterwarnings('ignore')

# %%
# Load the dataset
# Mock data generation - in real scenario, this would be from SQL database
np.random.seed(42)
dates = pd.date_range('2023-01-01', '2024-01-01', freq='D')
regions = ['North', 'South', 'East', 'West', 'Midwest']
categories = ['Electronics', 'Office Supplies', 'Furniture', 'Clothing', 'Accessories']

# %%
# Generate sample sales data
n_records = 1000
data = {
    'date': np.random.choice(dates, n_records),
    'region': np.random.choice(regions, n_records),
    'product_category': np.random.choice(categories, n_records, p=[0.35, 0.25, 0.20, 0.15, 0.05]),
    'revenue': np.random.normal(500, 200, n_records),
    'units_sold': np.random.randint(1, 20, n_records),
    'customer_id': [f'CUST_{i:04d}' for i in range(n_records)]
}

df = pd.DataFrame(data)
df['revenue'] = df['revenue'].clip(lower=100)  # Ensure no negative revenue

# %%
print("Dataset Overview:")
print(f"Shape: {df.shape}")
print("\nFirst 5 rows:")
df.head()

# %%
print("Data Quality Check:")
print(df.info())
print(f"\nMissing Values:\n{df.isnull().sum()}")

# %%
# Data Cleaning
print("Cleaning data...")
# Remove any duplicates
df = df.drop_duplicates()
# Standardize region names (example cleanup)
df['region'] = df['region'].str.title()

print(f"Data shape after cleaning: {df.shape}")

# %%
# Key Metrics Calculation
total_revenue = df['revenue'].sum()
avg_transaction_value = df['revenue'].mean()
total_transactions = len(df)

print("KEY PERFORMANCE INDICATORS:")
print(f"Total Revenue: ${total_revenue:,.2f}")
print(f"Average Transaction Value: ${avg_transaction_value:.2f}")
print(f"Total Transactions: {total_transactions:,}")

# %%
# Revenue by Region
region_revenue = df.groupby('region')['revenue'].agg(['sum', 'count']).round(2)
region_revenue = region_revenue.rename(columns={'sum': 'total_revenue', 'count': 'transaction_count'})
region_revenue['revenue_share'] = (region_revenue['total_revenue'] / total_revenue * 100).round(2)

print("REVENUE BY REGION:")
print(region_revenue)

# %%
# Revenue by Product Category
category_revenue = df.groupby('product_category')['revenue'].agg(['sum', 'count']).round(2)
category_revenue = category_revenue.rename(columns={'sum': 'total_revenue', 'count': 'transaction_count'})
category_revenue['revenue_share'] = (category_revenue['total_revenue'] / total_revenue * 100).round(2)
category_revenue = category_revenue.sort_values('total_revenue', ascending=False)

print("REVENUE BY PRODUCT CATEGORY:")
print(category_revenue)

# %%
# Monthly Trend Analysis
df['month'] = df['date'].dt.to_period('M')
monthly_revenue = df.groupby('month')['revenue'].sum().reset_index()
monthly_revenue['month'] = monthly_revenue['month'].astype(str)

print("MONTHLY REVENUE TREND:")
print(monthly_revenue)

# %%
# Top Performing Products Insights
top_categories = category_revenue.head(3)
top_categories_revenue_share = top_categories['revenue_share'].sum()

print(f"TOP 3 CATEGORIES REVENUE SHARE: {top_categories_revenue_share}%")

# %%
# Visualization 1: Revenue by Region
plt.figure(figsize=(12, 8))

plt.subplot(2, 2, 1)
sns.barplot(data=region_revenue.reset_index(), x='region', y='total_revenue')
plt.title('Total Revenue by Region')
plt.xticks(rotation=45)

# Visualization 2: Revenue by Category
plt.subplot(2, 2, 2)
sns.barplot(data=category_revenue.reset_index(), x='product_category', y='total_revenue')
plt.title('Revenue by Product Category')
plt.xticks(rotation=45)

# Visualization 3: Monthly Trend
plt.subplot(2, 2, 3)
plt.plot(monthly_revenue['month'], monthly_revenue['revenue'], marker='o')
plt.title('Monthly Revenue Trend')
plt.xticks(rotation=45)

# Visualization 4: Revenue Share Pie Chart
plt.subplot(2, 2, 4)
plt.pie(category_revenue['revenue_share'], labels=category_revenue.index, autopct='%1.1f%%')
plt.title('Revenue Share by Category')

plt.tight_layout()
plt.savefig('docs/revenue_analysis.png', dpi=300, bbox_inches='tight')
plt.show()

# %%
# SQL Queries Used (for documentation)
sql_queries = {
    "total_revenue_by_region": """
    SELECT 
        region,
        SUM(revenue) as total_revenue,
        COUNT(*) as transaction_count,
        ROUND(SUM(revenue) / (SELECT SUM(revenue) FROM sales) * 100, 2) as revenue_share
    FROM sales
    GROUP BY region
    ORDER BY total_revenue DESC;
    """,
    
    "monthly_trend": """
    SELECT 
        DATE_TRUNC('month', date) as month,
        SUM(revenue) as monthly_revenue
    FROM sales
    GROUP BY DATE_TRUNC('month', date)
    ORDER BY month;
    """,
    
    "top_categories": """
    SELECT 
        product_category,
        SUM(revenue) as total_revenue,
        ROUND(SUM(revenue) / (SELECT SUM(revenue) FROM sales) * 100, 2) as revenue_share
    FROM sales
    GROUP BY product_category
    ORDER BY total_revenue DESC
    LIMIT 5;
    """
}

print("SQL Queries for Data Extraction:")
for query_name, query in sql_queries.items():
    print(f"\n--- {query_name.upper()} ---")
    print(query)

# %%
# Export processed data for Tableau
df_export = df.copy()
df_export['year'] = df_export['date'].dt.year
df_export['quarter'] = df_export['date'].dt.quarter
df_export['month_name'] = df_export['date'].dt.month_name()

# Save for Tableau
df_export.to_csv('data/processed/sales_data_for_tableau.csv', index=False)
print("Data exported for Tableau dashboard: data/processed/sales_data_for_tableau.csv")

# %%
print("ANALYSIS COMPLETE")
print("Key Insights:")
print(f"1. Top 3 categories drive {top_categories_revenue_share:.1f}% of total revenue")
print("2. Regional performance varies significantly")
print("3. Clear monthly trends visible in the data")